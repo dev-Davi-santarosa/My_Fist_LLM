{
  "nbformat": 4,
  "nbformat_minor": 0,
  "metadata": {
    "colab": {
      "provenance": [],
      "authorship_tag": "ABX9TyN3L1gOVI+62ZmwAHJyjyqM",
      "include_colab_link": true
    },
    "kernelspec": {
      "name": "python3",
      "display_name": "Python 3"
    },
    "language_info": {
      "name": "python"
    }
  },
  "cells": [
    {
      "cell_type": "markdown",
      "metadata": {
        "id": "view-in-github",
        "colab_type": "text"
      },
      "source": [
        "<a href=\"https://colab.research.google.com/github/dev-Davi-santarosa/My_Fist_LLM/blob/main/goole_LLM.ipynb\" target=\"_parent\"><img src=\"https://colab.research.google.com/assets/colab-badge.svg\" alt=\"Open In Colab\"/></a>"
      ]
    },
    {
      "cell_type": "code",
      "execution_count": null,
      "metadata": {
        "colab": {
          "base_uri": "https://localhost:8080/",
          "height": 592
        },
        "id": "8130qdwjmW2b",
        "outputId": "c10dd2ab-ae51-4cac-e388-ce5c237f3a42"
      },
      "outputs": [
        {
          "name": "stdout",
          "output_type": "stream",
          "text": [
            "digite algo:\n",
            "eu quero que você fale sobre IA. diga também como ela pode ajudar na aréa da saúde. \n",
            "resposta: \n",
            " **Inteligência Artificial (IA)**\n",
            "\n",
            "A Inteligência Artificial (IA) refere-se à capacidade das máquinas de exibir habilidades cognitivas normalmente associadas aos seres humanos, como aprendizado, resolução de problemas e tomada de decisão. Os algoritmos de IA podem analisar grandes conjuntos de dados, identificar padrões e fazer previsões com alta precisão.\n",
            "\n",
            "**Aplicações da IA na Área da Saúde**\n",
            "\n",
            "A IA tem o potencial de transformar significativamente a área da saúde, oferecendo uma ampla gama de benefícios:\n",
            "\n",
            "* **Diagnóstico precoce e preciso:** Os algoritmos de IA podem analisar dados de exames e prontuários médicos para identificar doenças em estágios iniciais, mesmo antes que os sintomas apareçam.\n",
            "* **Personalização de tratamentos:** A IA pode analisar dados genéticos e de estilo de vida do paciente para personalizar planos de tratamento adequados às suas necessidades individuais, aumentando as chances de sucesso.\n",
            "* **Desenvolvimento de medicamentos:** A IA acelera o processo de desenvolvimento de medicamentos ao identificar rapidamente compostos candidatos e otimizar testes clínicos.\n",
            "* **Assistência cirúrgica:** A IA guiada por robô pode auxiliar os cirurgiões durante os procedimentos, fornecendo maior precisão e reduzindo o risco de complicações.\n",
            "* **Monitoramento remoto de pacientes:** Dispositivos habilitados por IA podem monitorar os parâmetros de saúde dos pacientes em tempo real, permitindo a intervenção precoce em caso de emergências.\n",
            "* **Análise de dados de saúde:** A IA pode analisar grandes conjuntos de dados de saúde para identificar tendências, prever surtos e melhorar a prestação de cuidados.\n",
            "* **Gestão de registros médicos:** A IA automatiza tarefas administrativas, como entrada de dados e codificação, liberando tempo dos profissionais de saúde para se concentrarem no atendimento ao paciente.\n",
            "\n",
            "**Exemplos específicos**\n",
            "\n",
            "Alguns exemplos específicos de aplicações de IA na saúde incluem:\n",
            "\n",
            "* **Watson Health da IBM:** Uma IA poderosa que analisa grandes conjuntos de dados de saúde para identificar riscos individuais de doenças, auxiliar no diagnóstico e orientar decisões de tratamento.\n",
            "* **Google DeepMind:** Uma IA que desenvolveu algoritmos para prever ataques epiléticos, agilizar a triagem do câncer e melhorar os resultados cirúrgicos.\n",
            "* **Health Catalyst:** Uma plataforma de IA que capacita os provedores de saúde a analisar dados de saúde para melhorar a qualidade do atendimento, reduzir custos e melhorar os resultados do paciente.\n",
            "\n",
            "**Conclusão**\n",
            "\n",
            "A IA tem o potencial de revolucionar a área da saúde, oferecendo novas ferramentas para diagnóstico, tratamento, desenvolvimento de medicamentos e gestão de registros médicos. Ao alavancar o poder dos dados e algoritmos, a IA pode ajudar os profissionais de saúde a fornecer cuidados mais personalizados, precisos e eficientes. Com o avanço contínuo da tecnologia, espera-se que a IA desempenhe um papel cada vez mais vital na melhoria da saúde e do bem-estar geral.\n",
            "digite algo:\n",
            "fim\n"
          ]
        }
      ],
      "source": [
        "import google.generativeai as genai\n",
        "from  google.colab import userdata\n",
        "API_KEY = userdata.get('secretName')\n",
        "genai.configure(api_key= API_KEY)\n",
        "\n",
        "for m in genai.list_models():\n",
        "  if \"generateContent\" in m.supported_generation_methods:\n",
        "    #atributo que para mostrar os tipos de modelos\n",
        "    m.name\n",
        "\n",
        "generation_config = {\n",
        "    \"candidate_count\":1,\n",
        "    \"temperature\":1}\n",
        "\n",
        "safety_settings = {\n",
        "    \"hate\": \"block_none\",\n",
        "    \"harassment\": \"block_none\",\n",
        "    \"sexual\": \"block_none\",\n",
        "    \"dangerous\": \"block_none\",}\n",
        "\n",
        "model = genai.GenerativeModel( model_name=\"gemini-1.0-pro\",\n",
        "                              generation_config=generation_config,\n",
        "                              safety_settings=safety_settings)\n",
        "\n",
        "prompt = input(\"digite algo:\\n\")\n",
        "while prompt != \"fim\":\n",
        "  chat = model.start_chat(history=[])\n",
        "  response = chat.send_message(prompt)\n",
        "  print(f\"resposta: \\n {response.text}\")\n",
        "  prompt = input(\"digite algo:\\n\")"
      ]
    }
  ]
}